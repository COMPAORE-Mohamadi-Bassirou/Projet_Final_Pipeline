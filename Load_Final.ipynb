{
 "cells": [
  {
   "cell_type": "code",
   "execution_count": null,
   "metadata": {},
   "outputs": [
    {
     "name": "stdout",
     "output_type": "stream",
     "text": [
      "Le fichier 'donnees_imputees_knn_mondial.xlsx' a été chargé avec succès sur S3 sous le nom 'donnees_imputees_knn_mondial.xlsx'.\n"
     ]
    }
   ],
   "source": [
    "# Chargement de la base Uniquement dans AWS\n",
    "import boto3\n",
    "import pandas as pd\n",
    "import os\n",
    "\n",
    "# Chemin vers le fichier Excel en local\n",
    "fichier_local = \"donnees_imputees_knn_mondial.xlsx\"\n",
    "\n",
    "# Paramètres S3\n",
    "bucket_name = \"bucket-projet-ise2\"  # Remplacez par le nom de votre bucket S3\n",
    "object_name = \"donnees_imputees_knn_mondial.xlsx\"  # Nom du fichier sur S3\n",
    "\n",
    "# Créez une session avec vos informations d’identification AWS\n",
    "s3 = boto3.client(\n",
    "    's3',\n",
    "    aws_access_key_id=[\"default\"][\"aws_access_key_id\"],         # Remplacez par votre clé d'accès\n",
    "    aws_secret_access_key=[\"default\"][\"aws_secret_access_key\"],     # Remplacez par votre clé secrète\n",
    "    region_name=[\"Region\"][\"value\"]                    # Ex: 'us-east-1'\n",
    ")\n",
    "\n",
    "# Vérifier si le fichier local existe\n",
    "if os.path.isfile(fichier_local):\n",
    "    try:\n",
    "        # Charger le fichier sur S3\n",
    "        s3.upload_file(fichier_local, bucket_name, object_name)\n",
    "        print(f\"Le fichier '{fichier_local}' a été chargé avec succès sur S3 sous le nom '{object_name}'.\")\n",
    "    except Exception as e:\n",
    "        print(f\"Erreur lors du chargement du fichier : {e}\")\n",
    "else:\n",
    "    print(f\"Le fichier '{fichier_local}' n'existe pas.\")"
   ]
  },
  {
   "cell_type": "code",
   "execution_count": null,
   "metadata": {},
   "outputs": [],
   "source": [
    "# Chargement du Dossier dans le Amazone S3 Cloud\n",
    "import boto3\n",
    "import os\n",
    "\n",
    "# Configuration du chemin local et des informations S3\n",
    "dossier_local = \"C:/Users/user/Desktop/ISE2/Mously/projet\"  # Remplacez par le chemin de votre dossier\n",
    "bucket_name = \"bucket-projet-ise2\"  # Remplacez par le nom de votre bucket S3\n",
    "prefix = \"projet_List/\"  # Préfixe dans le bucket S3 (répertoire virtuel)\n",
    "\n",
    "# Créer une session avec vos informations d’identification AWS\n",
    "s3 = boto3.client(\n",
    "    's3',\n",
    "    aws_access_key_id=[\"default\"][\"aws_access_key_id\"],         # Remplacez par votre clé d'accès\n",
    "    aws_secret_access_key=[\"default\"][\"aws_secret_access_key\"],     # Remplacez par votre clé secrète\n",
    "    region_name=[\"Region\"][\"value\"]                    # Ex: 'us-east-1'\n",
    ")\n",
    "\n",
    "# Fonction pour charger récursivement tous les fichiers d'un dossier vers S3\n",
    "def upload_directory_to_s3(dossier_local, bucket_name, prefix):\n",
    "    for root, _, files in os.walk(dossier_local):\n",
    "        for file in files:\n",
    "            # Construire le chemin local complet du fichier\n",
    "            chemin_local = os.path.join(root, file)\n",
    "            \n",
    "            # Construire le chemin S3 en maintenant la hiérarchie du dossier\n",
    "            chemin_s3 = os.path.join(prefix, os.path.relpath(chemin_local, dossier_local)).replace(\"\\\\\", \"/\")\n",
    "\n",
    "            try:\n",
    "                # Charger le fichier dans S3\n",
    "                s3.upload_file(chemin_local, bucket_name, chemin_s3)\n",
    "                print(f\"Chargé : {chemin_local} --> s3://{bucket_name}/{chemin_s3}\")\n",
    "            except Exception as e:\n",
    "                print(f\"Erreur lors du chargement de {chemin_local} : {str(e)}\")\n",
    "\n",
    "# Appeler la fonction pour démarrer le chargement\n",
    "upload_directory_to_s3(dossier_local, bucket_name, prefix)\n",
    "print(\"Chargement complet du dossier terminé.\")"
   ]
  }
 ],
 "metadata": {
  "kernelspec": {
   "display_name": "Python 3",
   "language": "python",
   "name": "python3"
  },
  "language_info": {
   "codemirror_mode": {
    "name": "ipython",
    "version": 3
   },
   "file_extension": ".py",
   "mimetype": "text/x-python",
   "name": "python",
   "nbconvert_exporter": "python",
   "pygments_lexer": "ipython3",
   "version": "3.12.5"
  }
 },
 "nbformat": 4,
 "nbformat_minor": 2
}
